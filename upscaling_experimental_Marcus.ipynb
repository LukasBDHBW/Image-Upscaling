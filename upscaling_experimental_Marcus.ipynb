{
 "cells": [
  {
   "attachments": {},
   "cell_type": "markdown",
   "metadata": {},
   "source": [
    "## Experimental notebook for upscaling algorithm tests"
   ]
  },
  {
   "cell_type": "code",
   "execution_count": null,
   "metadata": {},
   "outputs": [],
   "source": [
    "from PIL import Image\n",
    "import os\n",
    "import numpy as np\n",
    "# Folder path containing the images\n",
    "folder_path = \"./data/downscaled_input/\""
   ]
  },
  {
   "attachments": {},
   "cell_type": "markdown",
   "metadata": {},
   "source": [
    "### upscaling using bicubic interpolation"
   ]
  },
  {
   "cell_type": "code",
   "execution_count": null,
   "metadata": {},
   "outputs": [],
   "source": [
    "def upsample_image(image_path, output_size):\n",
    "    # Open the image\n",
    "    image = Image.open(image_path)\n",
    "\n",
    "    # Perform downsampling using bicubic interpolation\n",
    "    downscaled_image = image.resize(output_size, resample=Image.BICUBIC)\n",
    "\n",
    "    return downscaled_image\n",
    "\n",
    "\n",
    "# Defining folder for downscaled images serving for input for modelling (&upscaling)\n",
    "output_folder_path = \"./data/bicubic_upscaling_Marcus\"\n",
    "if not os.path.exists(output_folder_path):\n",
    "    os.makedirs(output_folder_path)\n",
    "\n",
    "\n",
    "# Output size for upsampling (by a factor of 5)\n",
    "output_size = (300, 440)\n",
    "\n",
    "# Iterate over the files in the folder\n",
    "for filename in os.listdir(folder_path):\n",
    "    # Check if the file is an image (optional)\n",
    "    if filename.endswith((\".jpg\", \".jpeg\", \".png\")):\n",
    "        # Construct the full path to the image file\n",
    "        image_path = os.path.join(folder_path, filename)\n",
    "\n",
    "        # Apply upsampling to the image\n",
    "        upsampled_image = upsample_image(image_path, output_size)\n",
    "\n",
    "        # Save the upscaled image\n",
    "        output_filename = f\"bicubic_up_{filename}\"\n",
    "        output_path = os.path.join(output_folder_path, output_filename)\n",
    "        upsampled_image.save(output_path)\n"
   ]
  },
  {
   "attachments": {},
   "cell_type": "markdown",
   "metadata": {},
   "source": [
    "## CNN implementation"
   ]
  },
  {
   "attachments": {},
   "cell_type": "markdown",
   "metadata": {},
   "source": [
    "#### imports"
   ]
  },
  {
   "cell_type": "code",
   "execution_count": 1,
   "metadata": {},
   "outputs": [],
   "source": [
    "import torch\n",
    "import torch.nn as nn\n",
    "import torch.optim as optim\n",
    "from torchvision import transforms, datasets\n",
    "import os\n",
    "from torch.utils.data import DataLoader, Dataset"
   ]
  },
  {
   "attachments": {},
   "cell_type": "markdown",
   "metadata": {},
   "source": [
    "#### old approach"
   ]
  },
  {
   "cell_type": "code",
   "execution_count": null,
   "metadata": {},
   "outputs": [],
   "source": [
    "# input_data_dir = \"./data/Input_images_models\"\n",
    "# desired_data_dir = \"./data/original_images_models/\"\n",
    "\n",
    "# # transformation to tensors\n",
    "# transform = transforms.Compose([\n",
    "#     transforms.ToTensor(),  # Convert images to tensors\n",
    "#     transforms.Normalize((0.5, 0.5, 0.5), (0.5, 0.5, 0.5)),  # Normalize the image tensors\n",
    "# ])\n",
    "\n",
    "# # datasets for input images and desired images\n",
    "# input_dataset = datasets.ImageFolder(input_data_dir, transform=transform)\n",
    "# desired_dataset = datasets.ImageFolder(desired_data_dir, transform=transform)\n",
    "\n",
    "# # data loaders for input images and desired images\n",
    "# batch_size = 32\n",
    "# shuffle = False\n",
    "# num_workers = 4 \n",
    "# input_loader = torch.utils.data.DataLoader(input_dataset, batch_size=batch_size, shuffle=shuffle, num_workers=num_workers)\n",
    "# desired_loader = torch.utils.data.DataLoader(desired_dataset, batch_size=batch_size, shuffle=shuffle, num_workers=num_workers)\n",
    "\n"
   ]
  },
  {
   "cell_type": "code",
   "execution_count": null,
   "metadata": {},
   "outputs": [],
   "source": [
    "# # SRCNN model\n",
    "# class SRCNN(nn.Module):\n",
    "#     def __init__(self):\n",
    "#         super(SRCNN, self).__init__()\n",
    "#         self.interpolation = nn.Upsample(scale_factor=5, mode='bicubic')\n",
    "#         self.conv1 = nn.Conv2d(3, 64, kernel_size=9, stride=1, padding=4)\n",
    "#         self.relu1 = nn.ReLU()\n",
    "#         self.conv2 = nn.Conv2d(64, 32, kernel_size=1, stride=1, padding=0)\n",
    "#         self.relu2 = nn.ReLU()\n",
    "#         self.conv3 = nn.Conv2d(32, 3, kernel_size=5, stride=1, padding=2)\n",
    "#         self.relu3 = nn.ReLU()\n",
    "\n",
    "#     def forward(self, x):\n",
    "#         x = self.interpolation(x)\n",
    "#         x = self.relu1(self.conv1(x))\n",
    "#         x = self.relu2(self.conv2(x))\n",
    "#         x = self.relu3(self.conv3(x))\n",
    "#         return x\n",
    "\n",
    "# # Training hardware\n",
    "# device = torch.device(\"cuda\" if torch.cuda.is_available() else \"cpu\")\n",
    "\n",
    "# # instance of the CNN model\n",
    "# model = SRCNN().to(device)\n",
    "\n",
    "# # hyperparameters\n",
    "# learning_rate = 0.001\n",
    "# num_epochs = 1\n",
    "\n",
    "# # loss function and optimizer\n",
    "# criterion = nn.MSELoss() # note: standard MSE is used, PSNR normally not used for training (just as metric at the end)\n",
    "# optimizer = optim.Adam(model.parameters(), lr=learning_rate)\n",
    "\n",
    "# # Training process\n",
    "# for epoch in range(num_epochs):\n",
    "#     for input_data, desired_data in zip(input_loader, desired_loader):\n",
    "#         # Move input and desired images to device\n",
    "#         input_images, _ = input_data\n",
    "#         desired_images, _ = desired_data\n",
    "#         input_images = input_images.to(device)\n",
    "#         desired_images = desired_images.to(device)\n",
    "\n",
    "#         # Forward pass\n",
    "#         output_images = model(input_images)\n",
    "\n",
    "#         # Calculate loss\n",
    "#         loss = criterion(output_images, desired_images)\n",
    "\n",
    "#         # Backward and optimize\n",
    "#         optimizer.zero_grad()\n",
    "#         loss.backward()\n",
    "#         optimizer.step()\n",
    "\n",
    "#     # Print training loss per epoch\n",
    "#     print(f\"Epoch [{epoch+1}/{num_epochs}], Loss: {loss.item():.4f}\")\n"
   ]
  },
  {
   "attachments": {},
   "cell_type": "markdown",
   "metadata": {},
   "source": [
    "### data loading"
   ]
  },
  {
   "cell_type": "code",
   "execution_count": 3,
   "metadata": {},
   "outputs": [
    {
     "name": "stdout",
     "output_type": "stream",
     "text": [
      "Number of training samples: 374\n",
      "Number of test samples: 1496\n"
     ]
    }
   ],
   "source": [
    "low_res_folder = \"./data/downscaled_input\"\n",
    "high_res_folder = \"./data/data_final\"\n",
    "\n",
    "# dataset class\n",
    "class CustomDataset(Dataset):\n",
    "    def __init__(self, low_res_folder, high_res_folder, transform=None):\n",
    "        self.low_res_images = sorted(os.listdir(low_res_folder))\n",
    "        self.high_res_images = sorted(os.listdir(high_res_folder))\n",
    "        self.transform = transform\n",
    "\n",
    "    def __len__(self):\n",
    "        return len(self.low_res_images)\n",
    "\n",
    "    def __getitem__(self, index):\n",
    "        low_res_image = Image.open(os.path.join(low_res_folder, self.low_res_images[index]))\n",
    "        high_res_image = Image.open(os.path.join(high_res_folder, self.high_res_images[index]))\n",
    "\n",
    "        if self.transform is not None:\n",
    "            low_res_image = self.transform(low_res_image)\n",
    "            high_res_image = self.transform(high_res_image)\n",
    "\n",
    "        return low_res_image, high_res_image\n",
    "\n",
    "# transform\n",
    "transform = transforms.Compose([\n",
    "    transforms.ToTensor()\n",
    "])\n",
    "\n",
    "# custom dataset\n",
    "dataset = CustomDataset(low_res_folder, high_res_folder, transform=transform)\n",
    "\n",
    "# Ssplitting into train and test sets\n",
    "test_size = 0.2  # Proportion of data to be used for testing\n",
    "dataset_size = len(dataset)\n",
    "split = int(test_size * dataset_size)\n",
    "train_indices = list(range(split))\n",
    "test_indices = list(range(split, dataset_size))\n",
    "\n",
    "# data loaders for train and test sets\n",
    "batch_size = 32\n",
    "train_loader = DataLoader(dataset, batch_size=batch_size, sampler=torch.utils.data.SubsetRandomSampler(train_indices))\n",
    "test_loader = DataLoader(dataset, batch_size=batch_size, sampler=torch.utils.data.SubsetRandomSampler(test_indices))\n",
    "\n",
    "# number of samples in each set\n",
    "print(f\"Number of training samples: {len(train_indices)}\")\n",
    "print(f\"Number of test samples: {len(test_indices)}\")\n"
   ]
  },
  {
   "attachments": {},
   "cell_type": "markdown",
   "metadata": {},
   "source": [
    "### implementing SRCNN"
   ]
  },
  {
   "cell_type": "code",
   "execution_count": null,
   "metadata": {},
   "outputs": [],
   "source": [
    "# SRCNN model\n",
    "class SRCNN(nn.Module):\n",
    "    def __init__(self):\n",
    "        super(SRCNN, self).__init__()\n",
    "        self.interpolation = nn.Upsample(scale_factor=5, mode='bicubic')\n",
    "        self.conv1 = nn.Conv2d(3, 64, kernel_size=9, stride=1, padding=4)\n",
    "        self.relu1 = nn.ReLU()\n",
    "        self.conv2 = nn.Conv2d(64, 32, kernel_size=1, stride=1, padding=0)\n",
    "        self.relu2 = nn.ReLU()\n",
    "        self.conv3 = nn.Conv2d(32, 3, kernel_size=5, stride=1, padding=2)\n",
    "        self.relu3 = nn.ReLU()\n",
    "\n",
    "    def forward(self, x):\n",
    "        x = self.interpolation(x)\n",
    "        x = self.relu1(self.conv1(x))\n",
    "        x = self.relu2(self.conv2(x))\n",
    "        x = self.relu3(self.conv3(x))\n",
    "        return x\n",
    "\n",
    "# Training hardware\n",
    "device = torch.device(\"cuda\" if torch.cuda.is_available() else \"cpu\")\n",
    "\n",
    "# instance of the CNN model\n",
    "model = SRCNN().to(device)\n",
    "\n",
    "# hyperparameters\n",
    "learning_rate = 0.001\n",
    "num_epochs = 1\n",
    "\n",
    "# loss function and optimizer\n",
    "criterion = nn.MSELoss() # note: standard MSE is used, PSNR normally not used for training (just as metric at the end)\n",
    "optimizer = optim.Adam(model.parameters(), lr=learning_rate)\n",
    "\n",
    "# Training process\n",
    "for epoch in range(num_epochs):\n",
    "    for input_data, desired_data in train_loader:\n",
    "        # Move input and desired images to device\n",
    "        input_data = input_data.to(device)\n",
    "        desired_data = desired_data.to(device)\n",
    "\n",
    "        # Forward pass\n",
    "        output_images = model(input_data)\n",
    "\n",
    "        # Calculate loss\n",
    "        loss = criterion(output_images, desired_data)\n",
    "\n",
    "        # Backward and optimize\n",
    "        optimizer.zero_grad()\n",
    "        loss.backward()\n",
    "        optimizer.step()\n",
    "\n",
    "    # Print training loss per epoch\n",
    "    print(f\"Epoch [{epoch+1}/{num_epochs}], Loss: {loss.item():.4f}\")\n",
    "\n",
    "# saving the model\n",
    "torch.save(model.state_dict(), \"SRCNN.pth\")"
   ]
  },
  {
   "cell_type": "code",
   "execution_count": null,
   "metadata": {},
   "outputs": [],
   "source": []
  },
  {
   "attachments": {},
   "cell_type": "markdown",
   "metadata": {},
   "source": []
  }
 ],
 "metadata": {
  "kernelspec": {
   "display_name": "Python 3",
   "language": "python",
   "name": "python3"
  },
  "language_info": {
   "codemirror_mode": {
    "name": "ipython",
    "version": 3
   },
   "file_extension": ".py",
   "mimetype": "text/x-python",
   "name": "python",
   "nbconvert_exporter": "python",
   "pygments_lexer": "ipython3",
   "version": "3.10.0"
  },
  "orig_nbformat": 4
 },
 "nbformat": 4,
 "nbformat_minor": 2
}
