{
 "cells": [
  {
   "cell_type": "code",
   "execution_count": null,
   "metadata": {},
   "outputs": [],
   "source": [
    "import numpy as np\n",
    "import sklearn\n",
    "import os\n",
    "from PIL import Image\n",
    "import os\n",
    "import matplotlib.pyplot as plt"
   ]
  },
  {
   "attachments": {},
   "cell_type": "markdown",
   "metadata": {},
   "source": [
    "Ordner aus Verzeichnis holen"
   ]
  },
  {
   "cell_type": "code",
   "execution_count": null,
   "metadata": {},
   "outputs": [],
   "source": [
    "# Pfad zu Ihrem Hauptverzeichnis mit Bildern\n",
    "path = \"C:/Users/a829727/Downloads\" # ===== THIS PATH IS THE ONLY ONE THAT HAS TO BE CHANGED ==== #\n",
    "\n",
    "# Erstellen von Ausgabeordnern\n",
    "horizontal_folder = \"./data/horizontal/\"\n",
    "vertical_folder = \"./data/vertical/\"\n",
    "if not os.path.exists(horizontal_folder):\n",
    "    os.makedirs(horizontal_folder)\n",
    "if not os.path.exists(vertical_folder):\n",
    "    os.makedirs(vertical_folder)\n",
    "\n",
    "# Schleife durch alle Bilder im Verzeichnis und allen Unterordnern\n",
    "for root, dirs, files in os.walk(path):\n",
    "    for file in files:\n",
    "        # Überprüfen, ob das aktuelle Element eine Bilddatei ist und die Endung .jpg hat\n",
    "        if file.endswith(\".jpg\"):\n",
    "            # Öffnen des Bilds mit der Python Imaging Library (PIL)\n",
    "            img = Image.open(os.path.join(root, file))\n",
    "            # Überprüfen, ob das Bild breiter als hoch ist\n",
    "            if img.width > img.height:\n",
    "                # Bild in horizontalen Ordner kopieren\n",
    "                img.save(os.path.join(horizontal_folder, file))\n",
    "            else:\n",
    "                # Bild in vertikalen Ordner kopieren\n",
    "                img.save(os.path.join(vertical_folder, file))\n"
   ]
  },
  {
   "attachments": {},
   "cell_type": "markdown",
   "metadata": {},
   "source": [
    "### Datenverteilung"
   ]
  },
  {
   "cell_type": "code",
   "execution_count": null,
   "metadata": {},
   "outputs": [],
   "source": [
    "def get_image_dimensions(folder_path):\n",
    "    image_dimensions = []\n",
    "    for filename in os.listdir(folder_path):\n",
    "        if filename.endswith(\".jpg\") or filename.endswith(\".png\"):\n",
    "            filepath = os.path.join(folder_path, filename)\n",
    "            with Image.open(filepath) as img:\n",
    "                width, height = img.size\n",
    "                image_dimensions.append((width, height))\n",
    "    return image_dimensions\n",
    "\n",
    "def create_histogram(data, title, xlabel, ylabel, direction): \n",
    "    values = [item[direction] for item in data]  # direction 0= witht und 1= hight\n",
    "    plt.hist(values, bins=100, edgecolor='black')\n",
    "    plt.title(title)\n",
    "    plt.xlabel(xlabel)\n",
    "    plt.ylabel(ylabel)\n",
    "    plt.show()\n",
    "\n",
    "folder_path = \"./data/vertical/\"\n",
    "image_dimensions = get_image_dimensions(folder_path)\n",
    "\n",
    "create_histogram(image_dimensions, \"Image Length Histogram\", \"hight\", \"Frequency\",1)\n",
    "create_histogram(image_dimensions, \"Image Width Histogram\", \"Width\", \"Frequency\",0)\n"
   ]
  },
  {
   "attachments": {},
   "cell_type": "markdown",
   "metadata": {},
   "source": [
    "Aussortieren der zu kleinen Bilder"
   ]
  },
  {
   "cell_type": "code",
   "execution_count": null,
   "metadata": {},
   "outputs": [],
   "source": [
    "# Pfad zum Verzeichnis\n",
    "dir_path = \"./data/vertical/\"\n",
    "\n",
    "path_list=[]\n",
    "# Durchlaufe alle Dateien im Verzeichnis\n",
    "for filename in os.listdir(dir_path):\n",
    "    if filename.endswith(\".jpg\") or filename.endswith(\".png\"):\n",
    "        img_path = os.path.join(dir_path, filename)\n",
    "        # Öffne das Bild und erhalte seine Dimensionen\n",
    "        with Image.open(img_path) as img:\n",
    "            width, height = img.size\n",
    "            # Wenn die Dimensionen kleiner sind als gefordert, lösche die Datei\n",
    "            if width < 300 or height < 440:\n",
    "                path_list.append(img_path)\n",
    "                print(f\"Datei {filename} wurde zum Abschuss freigegeben :D\")\n",
    "\n",
    "for path in path_list:\n",
    "    os.remove(path)"
   ]
  },
  {
   "attachments": {},
   "cell_type": "markdown",
   "metadata": {},
   "source": [
    "Zuschneiden der Bilder"
   ]
  },
  {
   "cell_type": "code",
   "execution_count": null,
   "metadata": {},
   "outputs": [],
   "source": [
    "# Pfad zum Eingangs- und Ausgangsverzeichnis\n",
    "input_dir_path = \"./data/vertical/\"\n",
    "output_dir_path = \"./data/data_final\"\n",
    "\n",
    "# Falls das Ausgangsverzeichnis nicht existiert, erstelle es\n",
    "if not os.path.exists(output_dir_path):\n",
    "    os.makedirs(output_dir_path)\n",
    "\n",
    "# Durchlaufe alle Dateien im Verzeichnis\n",
    "for filename in os.listdir(input_dir_path):\n",
    "    if filename.endswith(\".jpg\"):\n",
    "        img_path = os.path.join(input_dir_path, filename)\n",
    "        # Öffne das Bild und erhalte seine Dimensionen\n",
    "        with Image.open(img_path) as img:\n",
    "            width, height = img.size\n",
    "            # Schneide das Bild zu\n",
    "            left = (width - 300)/2\n",
    "            top = max(0, height - 440)  # Falls das Bild weniger als 440 hoch ist, fange oben an\n",
    "            right = (width + 300)/2\n",
    "            bottom = height\n",
    "            img_cropped = img.crop((left, top, right, bottom))\n",
    "            # Speichere das zugeschnittene Bild im Ausgangsverzeichnis\n",
    "            img_cropped.save(os.path.join(output_dir_path, filename))\n",
    "            print(f\"Datei {filename} wurde zugeschnitten und gespeichert.\")\n"
   ]
  },
  {
   "attachments": {},
   "cell_type": "markdown",
   "metadata": {},
   "source": [
    "Downscaling der Bilder (in schlechtere Qualität)"
   ]
  },
  {
   "cell_type": "code",
   "execution_count": null,
   "metadata": {},
   "outputs": [],
   "source": [
    "def downsample_image(image_path, output_size):\n",
    "    # Open the image\n",
    "    image = Image.open(image_path)\n",
    "\n",
    "    # Perform downsampling using bicubic interpolation\n",
    "    downscaled_image = image.resize(output_size, resample=Image.BICUBIC)\n",
    "\n",
    "    return downscaled_image\n",
    "\n",
    "# Folder path containing the images\n",
    "folder_path = \"./data/data_final/\"\n",
    "\n",
    "# Defining folder for downscaled images serving for input for modelling (&upscaling)\n",
    "output_folder_path = \"./data/downscaled_input\"\n",
    "if not os.path.exists(output_folder_path):\n",
    "    os.makedirs(output_folder_path)\n",
    "\n",
    "\n",
    "# Output size for downsampling (by a factor of 5)\n",
    "output_size = (60, 88)\n",
    "\n",
    "# Iterate over the files in the folder\n",
    "for filename in os.listdir(folder_path):\n",
    "    # Check if the file is an image (optional)\n",
    "    if filename.endswith((\".jpg\", \".jpeg\", \".png\")):\n",
    "        # Construct the full path to the image file\n",
    "        image_path = os.path.join(folder_path, filename)\n",
    "\n",
    "        # Apply downsampling to the image\n",
    "        downsampled_image = downsample_image(image_path, output_size)\n",
    "\n",
    "        # Save the downscaled image\n",
    "        output_filename = f\"downsampled_{filename}\"\n",
    "        output_path = os.path.join(output_folder_path, output_filename)\n",
    "        downsampled_image.save(output_path)\n"
   ]
  },
  {
   "cell_type": "code",
   "execution_count": null,
   "metadata": {},
   "outputs": [],
   "source": []
  }
 ],
 "metadata": {
  "kernelspec": {
   "display_name": "image_up",
   "language": "python",
   "name": "python3"
  },
  "language_info": {
   "codemirror_mode": {
    "name": "ipython",
    "version": 3
   },
   "file_extension": ".py",
   "mimetype": "text/x-python",
   "name": "python",
   "nbconvert_exporter": "python",
   "pygments_lexer": "ipython3",
   "version": "3.10.0"
  },
  "orig_nbformat": 4
 },
 "nbformat": 4,
 "nbformat_minor": 2
}
