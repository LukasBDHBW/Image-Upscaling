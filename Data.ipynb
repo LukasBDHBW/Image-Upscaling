{
 "cells": [
  {
   "cell_type": "code",
   "execution_count": 3,
   "metadata": {},
   "outputs": [],
   "source": [
    "import numpy as np\n",
    "import sklearn"
   ]
  },
  {
   "cell_type": "code",
   "execution_count": 9,
   "metadata": {},
   "outputs": [
    {
     "ename": "OSError",
     "evalue": "image file is truncated (9 bytes not processed)",
     "output_type": "error",
     "traceback": [
      "\u001b[1;31m---------------------------------------------------------------------------\u001b[0m",
      "\u001b[1;31mOSError\u001b[0m                                   Traceback (most recent call last)",
      "Cell \u001b[1;32mIn[9], line 28\u001b[0m\n\u001b[0;32m     25\u001b[0m     img\u001b[39m.\u001b[39msave(os\u001b[39m.\u001b[39mpath\u001b[39m.\u001b[39mjoin(horizontal_folder, file))\n\u001b[0;32m     26\u001b[0m \u001b[39melse\u001b[39;00m:\n\u001b[0;32m     27\u001b[0m     \u001b[39m# Bild in vertikalen Ordner kopieren\u001b[39;00m\n\u001b[1;32m---> 28\u001b[0m     img\u001b[39m.\u001b[39;49msave(os\u001b[39m.\u001b[39;49mpath\u001b[39m.\u001b[39;49mjoin(vertical_folder, file))\n",
      "File \u001b[1;32mc:\\Users\\a829727\\Anaconda3\\envs\\image_up\\lib\\site-packages\\PIL\\Image.py:2394\u001b[0m, in \u001b[0;36mImage.save\u001b[1;34m(self, fp, format, **params)\u001b[0m\n\u001b[0;32m   2391\u001b[0m     filename \u001b[39m=\u001b[39m fp\u001b[39m.\u001b[39mname\n\u001b[0;32m   2393\u001b[0m \u001b[39m# may mutate self!\u001b[39;00m\n\u001b[1;32m-> 2394\u001b[0m \u001b[39mself\u001b[39;49m\u001b[39m.\u001b[39;49m_ensure_mutable()\n\u001b[0;32m   2396\u001b[0m save_all \u001b[39m=\u001b[39m params\u001b[39m.\u001b[39mpop(\u001b[39m\"\u001b[39m\u001b[39msave_all\u001b[39m\u001b[39m\"\u001b[39m, \u001b[39mFalse\u001b[39;00m)\n\u001b[0;32m   2397\u001b[0m \u001b[39mself\u001b[39m\u001b[39m.\u001b[39mencoderinfo \u001b[39m=\u001b[39m params\n",
      "File \u001b[1;32mc:\\Users\\a829727\\Anaconda3\\envs\\image_up\\lib\\site-packages\\PIL\\Image.py:611\u001b[0m, in \u001b[0;36mImage._ensure_mutable\u001b[1;34m(self)\u001b[0m\n\u001b[0;32m    609\u001b[0m \u001b[39mdef\u001b[39;00m \u001b[39m_ensure_mutable\u001b[39m(\u001b[39mself\u001b[39m):\n\u001b[0;32m    610\u001b[0m     \u001b[39mif\u001b[39;00m \u001b[39mself\u001b[39m\u001b[39m.\u001b[39mreadonly:\n\u001b[1;32m--> 611\u001b[0m         \u001b[39mself\u001b[39;49m\u001b[39m.\u001b[39;49m_copy()\n\u001b[0;32m    612\u001b[0m     \u001b[39melse\u001b[39;00m:\n\u001b[0;32m    613\u001b[0m         \u001b[39mself\u001b[39m\u001b[39m.\u001b[39mload()\n",
      "File \u001b[1;32mc:\\Users\\a829727\\Anaconda3\\envs\\image_up\\lib\\site-packages\\PIL\\Image.py:604\u001b[0m, in \u001b[0;36mImage._copy\u001b[1;34m(self)\u001b[0m\n\u001b[0;32m    603\u001b[0m \u001b[39mdef\u001b[39;00m \u001b[39m_copy\u001b[39m(\u001b[39mself\u001b[39m):\n\u001b[1;32m--> 604\u001b[0m     \u001b[39mself\u001b[39;49m\u001b[39m.\u001b[39;49mload()\n\u001b[0;32m    605\u001b[0m     \u001b[39mself\u001b[39m\u001b[39m.\u001b[39mim \u001b[39m=\u001b[39m \u001b[39mself\u001b[39m\u001b[39m.\u001b[39mim\u001b[39m.\u001b[39mcopy()\n\u001b[0;32m    606\u001b[0m     \u001b[39mself\u001b[39m\u001b[39m.\u001b[39mpyaccess \u001b[39m=\u001b[39m \u001b[39mNone\u001b[39;00m\n",
      "File \u001b[1;32mc:\\Users\\a829727\\Anaconda3\\envs\\image_up\\lib\\site-packages\\PIL\\ImageFile.py:266\u001b[0m, in \u001b[0;36mImageFile.load\u001b[1;34m(self)\u001b[0m\n\u001b[0;32m    261\u001b[0m     \u001b[39melse\u001b[39;00m:\n\u001b[0;32m    262\u001b[0m         msg \u001b[39m=\u001b[39m (\n\u001b[0;32m    263\u001b[0m             \u001b[39m\"\u001b[39m\u001b[39mimage file is truncated \u001b[39m\u001b[39m\"\u001b[39m\n\u001b[0;32m    264\u001b[0m             \u001b[39mf\u001b[39m\u001b[39m\"\u001b[39m\u001b[39m(\u001b[39m\u001b[39m{\u001b[39;00m\u001b[39mlen\u001b[39m(b)\u001b[39m}\u001b[39;00m\u001b[39m bytes not processed)\u001b[39m\u001b[39m\"\u001b[39m\n\u001b[0;32m    265\u001b[0m         )\n\u001b[1;32m--> 266\u001b[0m         \u001b[39mraise\u001b[39;00m \u001b[39mOSError\u001b[39;00m(msg)\n\u001b[0;32m    268\u001b[0m b \u001b[39m=\u001b[39m b \u001b[39m+\u001b[39m s\n\u001b[0;32m    269\u001b[0m n, err_code \u001b[39m=\u001b[39m decoder\u001b[39m.\u001b[39mdecode(b)\n",
      "\u001b[1;31mOSError\u001b[0m: image file is truncated (9 bytes not processed)"
     ]
    }
   ],
   "source": [
    "#Bilder verschieben\n",
    "\"\"\"import os\n",
    "from PIL import Image\n",
    "\n",
    "# Pfad zu Ihrem Hauptverzeichnis mit Bildern\n",
    "path = \"C:/Users/a829727/Downloads\"\n",
    "\n",
    "# Erstellen von Ausgabeordnern\n",
    "horizontal_folder = \"./data/horizontal/\"\n",
    "vertical_folder = \"./data/vertical/\"\n",
    "if not os.path.exists(horizontal_folder):\n",
    "    os.makedirs(horizontal_folder)\n",
    "if not os.path.exists(vertical_folder):\n",
    "    os.makedirs(vertical_folder)\n",
    "\n",
    "# Schleife durch alle Bilder im Verzeichnis und allen Unterordnern\n",
    "for root, dirs, files in os.walk(path):\n",
    "    for file in files:\n",
    "        # Überprüfen, ob das aktuelle Element eine Bilddatei ist und die Endung .jpg hat\n",
    "        if file.endswith(\".jpg\"):\n",
    "            # Öffnen des Bilds mit der Python Imaging Library (PIL)\n",
    "            img = Image.open(os.path.join(root, file))\n",
    "            # Überprüfen, ob das Bild breiter als hoch ist\n",
    "            if img.width > img.height:\n",
    "                # Bild in horizontalen Ordner kopieren\n",
    "                img.save(os.path.join(horizontal_folder, file))\n",
    "            else:\n",
    "                # Bild in vertikalen Ordner kopieren\n",
    "                img.save(os.path.join(vertical_folder, file))\n",
    "\"\"\""
   ]
  },
  {
   "cell_type": "code",
   "execution_count": 16,
   "metadata": {},
   "outputs": [
    {
     "name": "stdout",
     "output_type": "stream",
     "text": [
      "Die Datei mit der geringsten Auflösung ist: img_1.jpg\n",
      "Auflösung: 54120\n",
      "Höhe: 410\n",
      "Breite: 132\n"
     ]
    }
   ],
   "source": [
    "import os\n",
    "from PIL import Image\n",
    "\n",
    "# Pfad zum Ordner mit Bildern\n",
    "path = \"./data/vertical/\"\n",
    "\n",
    "# Suchen der Bilddatei mit der geringsten Auflösung\n",
    "min_resolution = float('inf')\n",
    "min_resolution_file = ''\n",
    "for file in os.listdir(path):\n",
    "    if file.endswith('.jpg'):\n",
    "        with Image.open(os.path.join(path, file)) as img:\n",
    "            resolution = img.width * img.height\n",
    "            if resolution < min_resolution:\n",
    "                min_resolution = resolution\n",
    "                min_resolution_file = file\n",
    "                # Speichern von Höhe und Breite des aktuellen Bildes\n",
    "                min_resolution_height = img.height\n",
    "                min_resolution_width = img.width\n",
    "\n",
    "# Ausgabe des Dateinamens, der Auflösung, Höhe und Breite\n",
    "print(\"Die Datei mit der geringsten Auflösung ist: \" + min_resolution_file)\n",
    "print(\"Auflösung: \" + str(min_resolution))\n",
    "print(\"Höhe: \" + str(min_resolution_height))\n",
    "print(\"Breite: \" + str(min_resolution_width))\n"
   ]
  },
  {
   "cell_type": "code",
   "execution_count": 17,
   "metadata": {},
   "outputs": [],
   "source": [
    "import os\n",
    "from PIL import Image\n",
    "\n",
    "# Pfad zum Ordner mit Bildern\n",
    "path = \"./data/vertical/\"\n",
    "\n",
    "# Schleife durch alle Bilder im Verzeichnis\n",
    "for file in os.listdir(path):\n",
    "    if file.endswith(\".jpg\"):\n",
    "        # Öffnen des Bilds mit der Python Imaging Library (PIL)\n",
    "        img = Image.open(os.path.join(path, file))\n",
    "        # Bestimmen der ursprünglichen Bildgröße\n",
    "        width, height = img.size\n",
    "        # Berechnen der neuen Höhe und Breite\n",
    "        new_height = min_resolution_height\n",
    "        new_width = min_resolution_width\n",
    "        # Berechnen der Abstände zum Abschneiden\n",
    "        bottom_cut = height - new_height\n",
    "        side_cut = (width - new_width) // 2\n",
    "        # Abschneiden der Ränder und Skalieren des Bildes auf die neue Größe\n",
    "        cropped_img = img.crop((side_cut, 0, width - side_cut, height - bottom_cut))\n",
    "        resized_img = cropped_img.resize((new_width, new_height))\n",
    "        # Speichern des Bildes im gleichen Ordner\n",
    "        resized_img.save(os.path.join(path, file))\n"
   ]
  }
 ],
 "metadata": {
  "kernelspec": {
   "display_name": "image_up",
   "language": "python",
   "name": "python3"
  },
  "language_info": {
   "codemirror_mode": {
    "name": "ipython",
    "version": 3
   },
   "file_extension": ".py",
   "mimetype": "text/x-python",
   "name": "python",
   "nbconvert_exporter": "python",
   "pygments_lexer": "ipython3",
   "version": "3.9.16"
  },
  "orig_nbformat": 4
 },
 "nbformat": 4,
 "nbformat_minor": 2
}
